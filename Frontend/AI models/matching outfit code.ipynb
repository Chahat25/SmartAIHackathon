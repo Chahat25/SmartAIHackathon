{
 "cells": [
  {
   "cell_type": "code",
   "execution_count": 1,
   "id": "3139dbf6-138b-4d47-b419-406ed994e8e2",
   "metadata": {},
   "outputs": [
    {
     "name": "stdout",
     "output_type": "stream",
     "text": [
      "  Base Color Complementary Colors        Occasions\n",
      "0        red   blue, black, white    casual, party\n",
      "1       blue   white, gray, black   formal, casual\n",
      "2     yellow   black, navy, white  casual, festive\n",
      "3      green  white, beige, black   formal, casual\n",
      "4      black   white, red, yellow    all occasions\n"
     ]
    }
   ],
   "source": [
    "import pandas as pd\n",
    "\n",
    "# Load the dataset\n",
    "dataset = pd.read_csv(\"C:\\\\Users\\\\Yashika\\\\Downloads\\\\Color_Combinations.csv\")\n",
    "\n",
    "# Display the first few rows\n",
    "print(dataset.head())\n"
   ]
  },
  {
   "cell_type": "code",
   "execution_count": 4,
   "id": "f8767480-db49-468a-aa39-3130990f33f0",
   "metadata": {},
   "outputs": [],
   "source": [
    "import cv2\n",
    "import numpy as np\n",
    "\n",
    "def detect_dominant_color(image_path):\n",
    "    # Read the image\n",
    "    image = cv2.imread(image_path)\n",
    "    # Convert to RGB (OpenCV loads images in BGR format)\n",
    "    image = cv2.cvtColor(image, cv2.COLOR_BGR2RGB)\n",
    "    # Reshape the image to a 2D array of pixels\n",
    "    reshaped_image = image.reshape((-1, 3))\n",
    "    reshaped_image = np.float32(reshaped_image)\n",
    "\n",
    "    # Define criteria for KMeans\n",
    "    criteria = (cv2.TERM_CRITERIA_EPS + cv2.TERM_CRITERIA_MAX_ITER, 100, 0.2)\n",
    "    k = 1  # Number of clusters (dominant colors to find)\n",
    "    _, _, palette = cv2.kmeans(reshaped_image, k, None, criteria, 10, cv2.KMEANS_RANDOM_CENTERS)\n",
    "\n",
    "    # Get the dominant color\n",
    "    dominant_color = palette[0].astype(int)\n",
    "    return dominant_color\n"
   ]
  },
  {
   "cell_type": "code",
   "execution_count": 5,
   "id": "c372b3cb-0b09-4512-9d70-a1e931830cfc",
   "metadata": {},
   "outputs": [
    {
     "name": "stdout",
     "output_type": "stream",
     "text": [
      "Dominant Color (RGB): [234  90  83]\n"
     ]
    }
   ],
   "source": [
    "image_path = \"C:\\\\Users\\\\Yashika\\\\OneDrive\\\\Pictures\\\\Screenshots\\\\red_top.jpg\"  # Replace with your image file path\n",
    "dominant_color = detect_dominant_color(image_path)\n",
    "print(f\"Dominant Color (RGB): {dominant_color}\")\n"
   ]
  },
  {
   "cell_type": "code",
   "execution_count": 6,
   "id": "ac7ad0a7-ac5a-41c5-94ab-5302a906ef5e",
   "metadata": {},
   "outputs": [],
   "source": [
    "from scipy.spatial import distance\n",
    "\n",
    "# Predefined RGB values for basic colors\n",
    "color_names = {\n",
    "    \"red\": [255, 0, 0],\n",
    "    \"blue\": [0, 0, 255],\n",
    "    \"yellow\": [255, 255, 0],\n",
    "    \"green\": [0, 255, 0],\n",
    "    \"black\": [0, 0, 0],\n",
    "    \"white\": [255, 255, 255],\n",
    "    \"pink\": [255, 192, 203],\n",
    "    \"purple\": [128, 0, 128],\n",
    "    \"orange\": [255, 165, 0],\n",
    "    \"brown\": [165, 42, 42]\n",
    "}\n",
    "\n",
    "def get_closest_color(rgb):\n",
    "    closest_color = None\n",
    "    min_distance = float('inf')\n",
    "\n",
    "    for name, value in color_names.items():\n",
    "        dist = distance.euclidean(value, rgb)\n",
    "        if dist < min_distance:\n",
    "            min_distance = dist\n",
    "            closest_color = name\n",
    "\n",
    "    return closest_color\n"
   ]
  },
  {
   "cell_type": "code",
   "execution_count": 7,
   "id": "a2704b50-8f58-4106-83c6-6994b9cea44c",
   "metadata": {},
   "outputs": [],
   "source": [
    "def get_recommendations_from_dataset(color_name, dataset):\n",
    "    # Filter dataset for the detected color\n",
    "    recommendations = dataset[dataset[\"Base Color\"] == color_name][\"Complementary Colors\"].values\n",
    "    return recommendations[0].split(\", \") if len(recommendations) > 0 else [\"No recommendations found.\"]\n"
   ]
  },
  {
   "cell_type": "code",
   "execution_count": 9,
   "id": "10e3c828-3e9f-4de8-b9a4-8dd8eb2dac9a",
   "metadata": {},
   "outputs": [
    {
     "name": "stdout",
     "output_type": "stream",
     "text": [
      "Detected Color: red\n",
      "Recommended pairings: blue, black, white\n"
     ]
    }
   ],
   "source": [
    "import pandas as pd\n",
    "\n",
    "# Load the dataset\n",
    "dataset = pd.read_csv(\"C:\\\\Users\\\\Yashika\\\\Downloads\\\\Color_Combinations.csv\")\n",
    "\n",
    "# Example usage\n",
    "detected_rgb = [255, 0, 0]  # Replace with output from detect_dominant_color()\n",
    "detected_color_name = get_closest_color(detected_rgb)\n",
    "print(f\"Detected Color: {detected_color_name}\")\n",
    "\n",
    "recommendations = get_recommendations_from_dataset(detected_color_name, dataset)\n",
    "print(f\"Recommended pairings: {', '.join(recommendations)}\")\n"
   ]
  },
  {
   "cell_type": "code",
   "execution_count": 9,
   "id": "cec7708c-4ddd-4af6-8c7b-10dcdb1cbdc3",
   "metadata": {},
   "outputs": [
    {
     "name": "stdout",
     "output_type": "stream",
     "text": [
      "Detected Color: red\n",
      "Recommended pairings: blue, black, white\n"
     ]
    }
   ],
   "source": [
    "import pandas as pd\n",
    "\n",
    "# Load the dataset\n",
    "dataset = pd.read_csv(\"C:\\\\Users\\\\Yashika\\\\Downloads\\\\Color_Combinations.csv\")\n",
    "\n",
    "# Example usage\n",
    "detected_rgb = [255, 0, 0]  # Replace with output from detect_dominant_color()\n",
    "detected_color_name = get_closest_color(detected_rgb)\n",
    "print(f\"Detected Color: {detected_color_name}\")\n",
    "\n",
    "recommendations = get_recommendations_from_dataset(detected_color_name, dataset)\n",
    "print(f\"Recommended pairings: {', '.join(recommendations)}\")\n"
   ]
  },
  {
   "cell_type": "code",
   "execution_count": null,
   "id": "01867e6f-61ed-4b1f-a7ca-b1518a59ccc1",
   "metadata": {},
   "outputs": [],
   "source": [
    "\n"
   ]
  },
  {
   "cell_type": "code",
   "execution_count": null,
   "id": "ad2397db-5bbe-4d70-bc3f-eecf0d7d4fe0",
   "metadata": {},
   "outputs": [],
   "source": []
  },
  {
   "cell_type": "code",
   "execution_count": null,
   "id": "e5dbf9aa-7156-4fe3-a447-e924bf79a1a2",
   "metadata": {},
   "outputs": [],
   "source": []
  }
 ],
 "metadata": {
  "kernelspec": {
   "display_name": "Python 3 (ipykernel)",
   "language": "python",
   "name": "python3"
  },
  "language_info": {
   "codemirror_mode": {
    "name": "ipython",
    "version": 3
   },
   "file_extension": ".py",
   "mimetype": "text/x-python",
   "name": "python",
   "nbconvert_exporter": "python",
   "pygments_lexer": "ipython3",
   "version": "3.11.4"
  }
 },
 "nbformat": 4,
 "nbformat_minor": 5
}
